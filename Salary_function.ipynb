{
 "cells": [
  {
   "cell_type": "markdown",
   "id": "b94ef6f7-27e5-4615-af19-a355863ab8ac",
   "metadata": {},
   "source": [
    "# Importing Libraries and Data Structures"
   ]
  },
  {
   "cell_type": "code",
   "execution_count": 3,
   "id": "601ac2c1-995c-4f9a-b6e9-b1e00d9cda4d",
   "metadata": {},
   "outputs": [],
   "source": [
    "# Import necessary libraries\n",
    "import pandas as pd\n",
    "import numpy as np"
   ]
  },
  {
   "cell_type": "markdown",
   "id": "df9f1376-9588-4640-b8b5-a6e8cbfbc444",
   "metadata": {},
   "source": [
    "#Loading Data"
   ]
  },
  {
   "cell_type": "code",
   "execution_count": 5,
   "id": "d57ced49-1cc7-4f41-b769-63888b989edf",
   "metadata": {},
   "outputs": [
    {
     "name": "stdout",
     "output_type": "stream",
     "text": [
      "Data loaded successfully.\n"
     ]
    },
    {
     "name": "stderr",
     "output_type": "stream",
     "text": [
      "/tmp/ipykernel_220/3287340055.py:5: DtypeWarning: Columns (2,3,4,5) have mixed types. Specify dtype option on import or set low_memory=False.\n",
      "  salary_data = pd.read_csv(file_path)\n"
     ]
    },
    {
     "data": {
      "text/html": [
       "<div>\n",
       "<style scoped>\n",
       "    .dataframe tbody tr th:only-of-type {\n",
       "        vertical-align: middle;\n",
       "    }\n",
       "\n",
       "    .dataframe tbody tr th {\n",
       "        vertical-align: top;\n",
       "    }\n",
       "\n",
       "    .dataframe thead th {\n",
       "        text-align: right;\n",
       "    }\n",
       "</style>\n",
       "<table border=\"1\" class=\"dataframe\">\n",
       "  <thead>\n",
       "    <tr style=\"text-align: right;\">\n",
       "      <th></th>\n",
       "      <th>EmployeeName</th>\n",
       "      <th>JobTitle</th>\n",
       "      <th>BasePay</th>\n",
       "      <th>OvertimePay</th>\n",
       "      <th>OtherPay</th>\n",
       "      <th>Benefits</th>\n",
       "      <th>TotalPay</th>\n",
       "      <th>TotalPayBenefits</th>\n",
       "      <th>Year</th>\n",
       "    </tr>\n",
       "  </thead>\n",
       "  <tbody>\n",
       "    <tr>\n",
       "      <th>0</th>\n",
       "      <td>NATHANIEL FORD</td>\n",
       "      <td>GENERAL MANAGER-METROPOLITAN TRANSIT AUTHORITY</td>\n",
       "      <td>167411.18</td>\n",
       "      <td>0.0</td>\n",
       "      <td>400184.25</td>\n",
       "      <td>Not Provided</td>\n",
       "      <td>567595.43</td>\n",
       "      <td>567595.43</td>\n",
       "      <td>2011</td>\n",
       "    </tr>\n",
       "    <tr>\n",
       "      <th>1</th>\n",
       "      <td>GARY JIMENEZ</td>\n",
       "      <td>CAPTAIN III (POLICE DEPARTMENT)</td>\n",
       "      <td>155966.02</td>\n",
       "      <td>245131.88</td>\n",
       "      <td>137811.38</td>\n",
       "      <td>Not Provided</td>\n",
       "      <td>538909.28</td>\n",
       "      <td>538909.28</td>\n",
       "      <td>2011</td>\n",
       "    </tr>\n",
       "    <tr>\n",
       "      <th>2</th>\n",
       "      <td>ALBERT PARDINI</td>\n",
       "      <td>CAPTAIN III (POLICE DEPARTMENT)</td>\n",
       "      <td>212739.13</td>\n",
       "      <td>106088.18</td>\n",
       "      <td>16452.6</td>\n",
       "      <td>Not Provided</td>\n",
       "      <td>335279.91</td>\n",
       "      <td>335279.91</td>\n",
       "      <td>2011</td>\n",
       "    </tr>\n",
       "    <tr>\n",
       "      <th>3</th>\n",
       "      <td>CHRISTOPHER CHONG</td>\n",
       "      <td>WIRE ROPE CABLE MAINTENANCE MECHANIC</td>\n",
       "      <td>77916.0</td>\n",
       "      <td>56120.71</td>\n",
       "      <td>198306.9</td>\n",
       "      <td>Not Provided</td>\n",
       "      <td>332343.61</td>\n",
       "      <td>332343.61</td>\n",
       "      <td>2011</td>\n",
       "    </tr>\n",
       "    <tr>\n",
       "      <th>4</th>\n",
       "      <td>PATRICK GARDNER</td>\n",
       "      <td>DEPUTY CHIEF OF DEPARTMENT,(FIRE DEPARTMENT)</td>\n",
       "      <td>134401.6</td>\n",
       "      <td>9737.0</td>\n",
       "      <td>182234.59</td>\n",
       "      <td>Not Provided</td>\n",
       "      <td>326373.19</td>\n",
       "      <td>326373.19</td>\n",
       "      <td>2011</td>\n",
       "    </tr>\n",
       "  </tbody>\n",
       "</table>\n",
       "</div>"
      ],
      "text/plain": [
       "        EmployeeName                                        JobTitle  \\\n",
       "0     NATHANIEL FORD  GENERAL MANAGER-METROPOLITAN TRANSIT AUTHORITY   \n",
       "1       GARY JIMENEZ                 CAPTAIN III (POLICE DEPARTMENT)   \n",
       "2     ALBERT PARDINI                 CAPTAIN III (POLICE DEPARTMENT)   \n",
       "3  CHRISTOPHER CHONG            WIRE ROPE CABLE MAINTENANCE MECHANIC   \n",
       "4    PATRICK GARDNER    DEPUTY CHIEF OF DEPARTMENT,(FIRE DEPARTMENT)   \n",
       "\n",
       "     BasePay OvertimePay   OtherPay      Benefits   TotalPay  \\\n",
       "0  167411.18         0.0  400184.25  Not Provided  567595.43   \n",
       "1  155966.02   245131.88  137811.38  Not Provided  538909.28   \n",
       "2  212739.13   106088.18    16452.6  Not Provided  335279.91   \n",
       "3    77916.0    56120.71   198306.9  Not Provided  332343.61   \n",
       "4   134401.6      9737.0  182234.59  Not Provided  326373.19   \n",
       "\n",
       "   TotalPayBenefits  Year  \n",
       "0         567595.43  2011  \n",
       "1         538909.28  2011  \n",
       "2         335279.91  2011  \n",
       "3         332343.61  2011  \n",
       "4         326373.19  2011  "
      ]
     },
     "execution_count": 5,
     "metadata": {},
     "output_type": "execute_result"
    }
   ],
   "source": [
    "# Load the salary data from a CSV file\n",
    "file_path = 'Total.csv.zip'  \n",
    "\n",
    "try:\n",
    "    salary_data = pd.read_csv(file_path)\n",
    "    print(\"Data loaded successfully.\")\n",
    "except FileNotFoundError:\n",
    "    print(f\"Error: The file at {file_path} was not found.\")\n",
    "except pd.errors.EmptyDataError:\n",
    "    print(\"Error: The file is empty.\")\n",
    "except pd.errors.ParserError:\n",
    "    print(\"Error: There was a parsing error while reading the file.\")\n",
    "except Exception as e:\n",
    "    print(f\"An unexpected error occurred: {e}\")\n",
    "\n",
    "# Display the first few rows of the data\n",
    "salary_data.head()\n"
   ]
  },
  {
   "cell_type": "markdown",
   "id": "fcc16c98-e054-40ed-a505-999857411898",
   "metadata": {},
   "source": [
    "# Data processing using a dictionary."
   ]
  },
  {
   "cell_type": "code",
   "execution_count": 7,
   "id": "ea7e7d88-5a63-4429-8964-a0c29163b3e1",
   "metadata": {},
   "outputs": [
    {
     "name": "stdout",
     "output_type": "stream",
     "text": [
      "Index: 0, Data: {'EmployeeName': 'NATHANIEL FORD', 'JobTitle': 'GENERAL MANAGER-METROPOLITAN TRANSIT AUTHORITY', 'BasePay': 167411.18, 'OvertimePay': 0.0, 'OtherPay': 400184.25, 'Benefits': 'Not Provided', 'TotalPay': 567595.43, 'TotalPayBenefits': 567595.43, 'Year': 2011}\n",
      "Index: 1, Data: {'EmployeeName': 'GARY JIMENEZ', 'JobTitle': 'CAPTAIN III (POLICE DEPARTMENT)', 'BasePay': 155966.02, 'OvertimePay': 245131.88, 'OtherPay': 137811.38, 'Benefits': 'Not Provided', 'TotalPay': 538909.28, 'TotalPayBenefits': 538909.28, 'Year': 2011}\n",
      "Index: 2, Data: {'EmployeeName': 'ALBERT PARDINI', 'JobTitle': 'CAPTAIN III (POLICE DEPARTMENT)', 'BasePay': 212739.13, 'OvertimePay': 106088.18, 'OtherPay': 16452.6, 'Benefits': 'Not Provided', 'TotalPay': 335279.91, 'TotalPayBenefits': 335279.91, 'Year': 2011}\n",
      "Index: 3, Data: {'EmployeeName': 'CHRISTOPHER CHONG', 'JobTitle': 'WIRE ROPE CABLE MAINTENANCE MECHANIC', 'BasePay': 77916.0, 'OvertimePay': 56120.71, 'OtherPay': 198306.9, 'Benefits': 'Not Provided', 'TotalPay': 332343.61, 'TotalPayBenefits': 332343.61, 'Year': 2011}\n",
      "Index: 4, Data: {'EmployeeName': 'PATRICK GARDNER', 'JobTitle': 'DEPUTY CHIEF OF DEPARTMENT,(FIRE DEPARTMENT)', 'BasePay': 134401.6, 'OvertimePay': 9737.0, 'OtherPay': 182234.59, 'Benefits': 'Not Provided', 'TotalPay': 326373.19, 'TotalPayBenefits': 326373.19, 'Year': 2011}\n"
     ]
    }
   ],
   "source": [
    "# Convert the salary data into a dictionary\n",
    "salary_dict = salary_data.to_dict('index')\n",
    "\n",
    "# Example of accessing data: Print the first 5 entries in the dictionary\n",
    "for idx in list(salary_dict)[:5]:\n",
    "    print(f\"Index: {idx}, Data: {salary_dict[idx]}\")"
   ]
  },
  {
   "cell_type": "markdown",
   "id": "df08a703-cd17-4856-9751-783cfadd2efd",
   "metadata": {},
   "source": [
    "# A Python function that accepts employee names and returns details."
   ]
  },
  {
   "cell_type": "code",
   "execution_count": 28,
   "id": "32acfbce-28bd-4d69-9a96-a6e84e25d3f5",
   "metadata": {},
   "outputs": [
    {
     "name": "stdout",
     "output_type": "stream",
     "text": [
      "{'EmployeeName': 'NATHANIEL FORD', 'JobTitle': 'GENERAL MANAGER-METROPOLITAN TRANSIT AUTHORITY', 'BasePay': 167411.18, 'OvertimePay': 0.0, 'OtherPay': 400184.25, 'Benefits': 'Not Provided', 'TotalPay': 567595.43, 'TotalPayBenefits': 567595.43, 'Year': 2011}\n"
     ]
    }
   ],
   "source": [
    "def get_employee_details(name, data):\n",
    "    \"\"\"\n",
    "    Retrieve details of an employee by name.\n",
    "    \n",
    "    Parameters:\n",
    "    name (str): The name of the employee.\n",
    "    data (DataFrame): The dataframe containing employee data.\n",
    "    \n",
    "    Returns:\n",
    "    dict: A dictionary containing the employee's details.\n",
    "    \"\"\"\n",
    "    try:\n",
    "        employee = data[data['EmployeeName'].str.lower() == name.lower()]\n",
    "        if employee.empty:\n",
    "            raise ValueError(\"Employee not found\")\n",
    "        return employee.to_dict('records')[0]\n",
    "    except Exception as e:\n",
    "        print(f\"An error occurred: {e}\")\n",
    "        return None\n",
    "\n",
    "# Example usage\n",
    "employee_name = 'NATHANIEL FORD' \n",
    "employee_details = get_employee_details(employee_name, salary_data)\n",
    "print(employee_details)\n"
   ]
  },
  {
   "cell_type": "markdown",
   "id": "8fff5788-2322-44ed-9e97-8137b295f10e",
   "metadata": {},
   "source": [
    "# Code to export employee details to a CSV file and zip it into the \"Employee Profile\" folder."
   ]
  },
  {
   "cell_type": "code",
   "execution_count": 30,
   "id": "487d7ff1-7b0d-46cc-98f9-1ede9b82781c",
   "metadata": {},
   "outputs": [
    {
     "name": "stdout",
     "output_type": "stream",
     "text": [
      "Data successfully written to Employee_Profile.csv\n",
      "CSV file successfully zipped into Employee_Profile.zip\n"
     ]
    }
   ],
   "source": [
    "import csv\n",
    "import zipfile\n",
    "import os\n",
    "\n",
    "def export_employee_details(details, filename):\n",
    "    \"\"\"\n",
    "    Export the employee's details to a CSV file and compress into a zip file.\n",
    "    \n",
    "    Parameters:\n",
    "    details (dict): The employee's details.\n",
    "    filename (str): The base name for the output file.\n",
    "    \"\"\"\n",
    "    csv_filename = f\"{filename}.csv\"\n",
    "    zip_filename = f\"{filename}.zip\"\n",
    "    \n",
    "    # Export details to a CSV file\n",
    "    try:\n",
    "        with open(csv_filename, 'w', newline='') as csvfile:\n",
    "            writer = csv.DictWriter(csvfile, fieldnames=details.keys())\n",
    "            writer.writeheader()\n",
    "            writer.writerow(details)\n",
    "        print(f\"Data successfully written to {csv_filename}\")\n",
    "        \n",
    "        # Create a zip file\n",
    "        with zipfile.ZipFile(zip_filename, 'w') as zipf:\n",
    "            zipf.write(csv_filename)\n",
    "        print(f\"CSV file successfully zipped into {zip_filename}\")\n",
    "        \n",
    "        # Clean up CSV file\n",
    "        os.remove(csv_filename)\n",
    "    except Exception as e:\n",
    "        print(f\"An error occurred: {e}\")\n",
    "\n",
    "# Example usage\n",
    "if employee_details:\n",
    "    export_employee_details(employee_details, \"Employee_Profile\")\n"
   ]
  },
  {
   "cell_type": "code",
   "execution_count": null,
   "id": "fbadaa37-b959-4112-b682-2bc3975832fc",
   "metadata": {},
   "outputs": [],
   "source": []
  }
 ],
 "metadata": {
  "kernelspec": {
   "display_name": "anaconda-2024.02-py310",
   "language": "python",
   "name": "conda-env-anaconda-2024.02-py310-py"
  },
  "language_info": {
   "codemirror_mode": {
    "name": "ipython",
    "version": 3
   },
   "file_extension": ".py",
   "mimetype": "text/x-python",
   "name": "python",
   "nbconvert_exporter": "python",
   "pygments_lexer": "ipython3",
   "version": "3.10.14"
  }
 },
 "nbformat": 4,
 "nbformat_minor": 5
}
